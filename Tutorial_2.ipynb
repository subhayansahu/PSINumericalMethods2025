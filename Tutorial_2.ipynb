{
 "cells": [
  {
   "cell_type": "code",
   "execution_count": 15,
   "id": "7539499c-d17b-4ff1-8c06-1da478b53780",
   "metadata": {
    "tags": []
   },
   "outputs": [],
   "source": [
    "using LinearAlgebra"
   ]
  },
  {
   "cell_type": "markdown",
   "id": "ac574e20-0e1a-4980-9d6b-63918c1d3c3a",
   "metadata": {
    "tags": []
   },
   "source": [
    "Problem 3"
   ]
  },
  {
   "cell_type": "code",
   "execution_count": 14,
   "id": "1ea72bac-b853-43f3-bf77-eb051c5bd1cb",
   "metadata": {
    "tags": []
   },
   "outputs": [
    {
     "data": {
      "text/plain": [
       "create_test_system (generic function with 1 method)"
      ]
     },
     "execution_count": 14,
     "metadata": {},
     "output_type": "execute_result"
    }
   ],
   "source": [
    "function find_energy_minimum(A::Matrix{Float64}, b::Vector{Float64}, c::Float64)\n",
    "    # Solve the linear system Ax = -b\n",
    "    x = A \\ (-b)\n",
    "    \n",
    "    # Calculate the minimum energy value\n",
    "    energy = 0.5 * dot(x, A * x) + dot(b, x) + c\n",
    "    \n",
    "    return x, energy\n",
    "end\n",
    "\n",
    "\n",
    "function find_energy_minimum_safe(A::Matrix{Float64}, b::Vector{Float64}, c::Float64)\n",
    "    # Check if matrix is square\n",
    "    n, m = size(A)\n",
    "    if n != m\n",
    "        throw(ArgumentError(\"Matrix A must be square\"))\n",
    "    end\n",
    "    \n",
    "    # Check if matrix is symmetric\n",
    "    if !isapprox(A, A', rtol=1e-8)\n",
    "        throw(ArgumentError(\"Matrix A must be symmetric\"))\n",
    "    end\n",
    "    \n",
    "    # Check if matrix is positive definite\n",
    "    # Try Cholesky factorization - it only works for SPD matrices\n",
    "    try\n",
    "        cholesky(A)\n",
    "    catch e\n",
    "        throw(ArgumentError(\"Matrix A must be positive definite\"))\n",
    "    end\n",
    "    \n",
    "    # If we get here, A is SPD, so solve the system\n",
    "    x = A \\ (-b)\n",
    "    energy = 0.5 * dot(x, A * x) + dot(b, x) + c\n",
    "    \n",
    "    return x, energy\n",
    "end\n",
    "\n",
    "function create_test_system(n::Int)\n",
    "    # Create tridiagonal matrix for efficiency\n",
    "    # The matrix will represent the discretized version of the energy\n",
    "    # E(x^i) = Σᵢ (x^i + x^(i-1) + sin(πi/n))²\n",
    "    \n",
    "    # Initialize matrix\n",
    "    A = zeros(n, n)\n",
    "    \n",
    "    # Fill the matrix\n",
    "    for i in 1:n\n",
    "        if i > 1\n",
    "            A[i,i-1] = 1.0  # x^(i-1) term\n",
    "            A[i-1,i] = 1.0  # Symmetry\n",
    "        end\n",
    "        A[i,i] = 1.0  # x^i term\n",
    "    end\n",
    "    \n",
    "    # Create the full matrix A'A which represents the quadratic form\n",
    "    A = A'A\n",
    "    \n",
    "    # Create vector b\n",
    "    b = zeros(n)\n",
    "    for i in 1:n\n",
    "        s = sin(π * i / n)\n",
    "        if i > 1\n",
    "            b[i] += s\n",
    "        end\n",
    "        b[i] += s\n",
    "        if i < n\n",
    "            b[i] += s\n",
    "        end\n",
    "    end\n",
    "    \n",
    "    # Double b because of the square in the energy function\n",
    "    b = 2 * b\n",
    "    \n",
    "    # c is the sum of squares of sin terms (constant part)\n",
    "    c = sum(sin(π * i / n)^2 for i in 1:n)\n",
    "    \n",
    "    return A, b, c\n",
    "end\n"
   ]
  },
  {
   "cell_type": "code",
   "execution_count": 13,
   "id": "ef0b96ba-7997-4ff4-9a06-c98dc66b156b",
   "metadata": {
    "tags": []
   },
   "outputs": [
    {
     "name": "stdout",
     "output_type": "stream",
     "text": [
      "Creating test system...\n",
      "  0.020163 seconds (7 allocations: 15.275 MiB, 33.37% gc time)\n",
      "Solving system...\n",
      "  0.022249 seconds (12 allocations: 22.920 MiB)\n",
      "Energy at minimum: -500.0461108189077\n",
      "First few components of solution:\n",
      "[6.289465050821832, -6.283181875850016, -0.025132699887148984, 6.28318206188733, -6.270615153833876]\n"
     ]
    }
   ],
   "source": [
    "\n",
    "# Test the system\n",
    "n = 10^3\n",
    "println(\"Creating test system...\")\n",
    "@time A, b, c = create_test_system(n)\n",
    "\n",
    "println(\"Solving system...\")\n",
    "@time x, energy = find_energy_minimum_safe(A, b, c)\n",
    "\n",
    "println(\"Energy at minimum: \", energy)\n",
    "println(\"First few components of solution:\")\n",
    "println(x[1:5])"
   ]
  },
  {
   "cell_type": "code",
   "execution_count": null,
   "id": "d6ec7be1-ab3f-4c9b-95a2-29410ba96a55",
   "metadata": {},
   "outputs": [],
   "source": []
  }
 ],
 "metadata": {
  "kernelspec": {
   "display_name": "Julia 1.10.4",
   "language": "julia",
   "name": "julia-1.10"
  },
  "language_info": {
   "file_extension": ".jl",
   "mimetype": "application/julia",
   "name": "julia",
   "version": "1.10.4"
  }
 },
 "nbformat": 4,
 "nbformat_minor": 5
}
